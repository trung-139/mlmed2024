{
  "nbformat": 4,
  "nbformat_minor": 0,
  "metadata": {
    "colab": {
      "private_outputs": true,
      "provenance": []
    },
    "kernelspec": {
      "name": "python3",
      "display_name": "Python 3"
    },
    "language_info": {
      "name": "python"
    }
  },
  "cells": [
    {
      "cell_type": "code",
      "execution_count": null,
      "metadata": {
        "id": "jrW7N6R7-04k"
      },
      "outputs": [],
      "source": [
        "from google.colab import drive\n",
        "drive.mount('/content/drive')"
      ]
    },
    {
      "cell_type": "code",
      "source": [
        "import pandas as pd\n",
        "import numpy as np\n",
        "import matplotlib.pyplot as plt\n",
        "from sklearn.utils import resample\n",
        "from sklearn.tree import DecisionTreeClassifier\n",
        "from sklearn.metrics import classification_report, accuracy_score\n",
        "from imblearn.pipeline import Pipeline\n",
        "from imblearn.over_sampling import SMOTE\n",
        "from sklearn.model_selection import GridSearchCV\n",
        "from sklearn.metrics import accuracy_score\n",
        "from sklearn.neural_network import MLPClassifier\n",
        "from imblearn.under_sampling import NearMiss\n",
        "from sklearn.model_selection import train_test_split\n",
        "from sklearn.metrics import confusion_matrix, ConfusionMatrixDisplay\n",
        "import seaborn as sns"
      ],
      "metadata": {
        "id": "lBPyQ4RRmQwU"
      },
      "execution_count": null,
      "outputs": []
    },
    {
      "cell_type": "code",
      "source": [
        "train_data = pd.read_csv('/content/drive/MyDrive/ML in Medicine/Lab1/mitbih_test.csv', header = None)\n",
        "test_data = pd.read_csv('/content/drive/MyDrive/ML in Medicine/Lab1/mitbih_train.csv', header = None)"
      ],
      "metadata": {
        "id": "RymHZ9swmxEb"
      },
      "execution_count": null,
      "outputs": []
    },
    {
      "cell_type": "code",
      "source": [
        "train_data"
      ],
      "metadata": {
        "id": "dxN5-l2cfpm6"
      },
      "execution_count": null,
      "outputs": []
    },
    {
      "cell_type": "code",
      "source": [
        "print('train shape:', train_data.shape,\n",
        "      'test shape: ', test_data.shape)"
      ],
      "metadata": {
        "id": "0VoNLrTfmzZY"
      },
      "execution_count": null,
      "outputs": []
    },
    {
      "cell_type": "code",
      "source": [
        "ecg_signal = train_data.iloc[0, :-1]  # Assuming the last column is not the signal\n",
        "\n",
        "# Plot the ECG signal\n",
        "plt.plot(ecg_signal)\n",
        "plt.xlabel('Time (samples)')\n",
        "plt.ylabel('Voltage (mV)')\n",
        "plt.title('ECG Signal')\n",
        "plt.grid(True)\n",
        "plt.show()"
      ],
      "metadata": {
        "id": "A7Qyy2Pytph0"
      },
      "execution_count": null,
      "outputs": []
    },
    {
      "cell_type": "code",
      "source": [
        "train_label = train_data[187].astype(int)\n",
        "test_label = test_data[187].astype(int)\n",
        "train_info = train_data.iloc[:,:187]\n",
        "test_info = test_data.iloc[:,:187]"
      ],
      "metadata": {
        "id": "_crtsfuGm3XA"
      },
      "execution_count": null,
      "outputs": []
    },
    {
      "cell_type": "code",
      "source": [
        "# Count the occurrences of each class\n",
        "unique_classes, class_counts = np.unique(train_label, return_counts=True)\n",
        "\n",
        "# Plotting the histogram with count values on top of each bar\n",
        "plt.bar(unique_classes, class_counts, align='center', alpha=0.7,color='red')\n",
        "plt.xlabel('Class Labels')\n",
        "plt.ylabel('Count')\n",
        "plt.title('Ratio of Training Class Labels',fontstyle='oblique')\n",
        "\n",
        "# Adding count values on top of each bar\n",
        "for i, count in zip(unique_classes, class_counts):\n",
        "    plt.text(i, count + 0.1, str(count), ha='center', va='bottom')\n",
        "\n",
        "plt.show()"
      ],
      "metadata": {
        "id": "vfmxjHCQrRYp"
      },
      "execution_count": null,
      "outputs": []
    },
    {
      "cell_type": "code",
      "source": [
        "nm = SMOTE(k_neighbors=5)  # Different versions available\n",
        "X_resampled, y_resampled = nm.fit_resample(train_info, train_label)"
      ],
      "metadata": {
        "id": "J2BAqkTVrcWc"
      },
      "execution_count": null,
      "outputs": []
    },
    {
      "cell_type": "code",
      "source": [
        "unique_classes, class_counts = np.unique(y_resampled, return_counts=True)\n",
        "\n",
        "# Plotting the histogram with count values on top of each bar\n",
        "plt.bar(unique_classes, class_counts, align='center', alpha=0.7,color='purple')\n",
        "plt.xlabel('Class Labels')\n",
        "plt.ylabel('Count')\n",
        "plt.title('Histogram of Class Labels after using SMOTE',fontstyle='oblique')\n",
        "\n",
        "# Adding count values on top of each bar\n",
        "for i, count in zip(unique_classes, class_counts):\n",
        "    plt.text(i, count + 0.1, str(count), ha='center', va='bottom')\n",
        "\n",
        "plt.show()"
      ],
      "metadata": {
        "id": "V-U89SzzyCx_"
      },
      "execution_count": null,
      "outputs": []
    },
    {
      "cell_type": "code",
      "source": [
        "MLP = MLPClassifier(hidden_layer_sizes=(100, ), activation='relu', solver='adam', max_iter=200,  random_state=42)\n",
        "MLP"
      ],
      "metadata": {
        "id": "s5T65qU-yVhD"
      },
      "execution_count": null,
      "outputs": []
    },
    {
      "cell_type": "code",
      "source": [
        "MLP.fit(X_resampled,y_resampled)"
      ],
      "metadata": {
        "id": "maede51bQyUF"
      },
      "execution_count": null,
      "outputs": []
    },
    {
      "cell_type": "code",
      "source": [
        "y_pred=MLP.predict(test_info)"
      ],
      "metadata": {
        "id": "rKoc8g2iRCkL"
      },
      "execution_count": null,
      "outputs": []
    },
    {
      "cell_type": "code",
      "source": [
        "cm2 = confusion_matrix(test_label, y_pred)\n",
        "disp=ConfusionMatrixDisplay(confusion_matrix=cm2,display_labels=unique_classes)\n",
        "fig, ax = plt.subplots()\n",
        "disp.plot(ax=ax)\n",
        "cmap = plt.cm.viridis\n",
        "cmap.set_bad('lightgray')\n",
        "ax.imshow(cm2, cmap=cmap)\n",
        "ax.grid(False)\n",
        "ax.set_xticks([])\n",
        "ax.set_yticks([])\n",
        "plt.show()"
      ],
      "metadata": {
        "id": "9-PCdRbESRFW"
      },
      "execution_count": null,
      "outputs": []
    },
    {
      "cell_type": "code",
      "source": [
        "from sklearn.metrics import roc_auc_score,roc_curve\n",
        "from sklearn.datasets import make_classification"
      ],
      "metadata": {
        "id": "C_7IgFCdRIoD"
      },
      "execution_count": null,
      "outputs": []
    },
    {
      "cell_type": "code",
      "source": [
        "y_pred_proba = MLP.predict_proba(test_info)[:, 1]"
      ],
      "metadata": {
        "id": "XBVxX3TrRYn9"
      },
      "execution_count": null,
      "outputs": []
    },
    {
      "cell_type": "code",
      "source": [
        "from sklearn.metrics import classification_report\n",
        "acc_multi1 = classification_report(y_pred, test_label)"
      ],
      "metadata": {
        "id": "9Oi8bqDdA4LU"
      },
      "execution_count": null,
      "outputs": []
    },
    {
      "cell_type": "code",
      "source": [
        "print(acc_multi1)"
      ],
      "metadata": {
        "id": "rjuXu95ZBgc_"
      },
      "execution_count": null,
      "outputs": []
    }
  ]
}